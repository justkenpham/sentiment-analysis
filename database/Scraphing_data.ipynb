{
 "cells": [
  {
   "cell_type": "markdown",
   "id": "b4cfb494",
   "metadata": {},
   "source": [
    "## Install all libraries"
   ]
  },
  {
   "cell_type": "code",
   "execution_count": null,
   "id": "0e5b9b56",
   "metadata": {},
   "outputs": [],
   "source": [
    "import csv\n",
    "from bs4 import BeautifulSoup"
   ]
  },
  {
   "cell_type": "code",
   "execution_count": null,
   "id": "a12d23f3",
   "metadata": {
    "scrolled": true
   },
   "outputs": [],
   "source": [
    "# Install Firefox & Chrome\n",
    "!pip install msedge-selenium-tools selenium==3.141"
   ]
  },
  {
   "cell_type": "code",
   "execution_count": null,
   "id": "babf2043",
   "metadata": {},
   "outputs": [],
   "source": [
    "# edge\n",
    "from msedge.selenium_tools import Edge, EdgeOptions\n",
    "\n",
    "# # Launch Microsoft Edge (EdgeHTML)\n",
    "options = EdgeOptions()\n",
    "options.use_chromium =True\n",
    "driver = Edge(options=options)"
   ]
  },
  {
   "cell_type": "code",
   "execution_count": null,
   "id": "b1ae72d4",
   "metadata": {},
   "outputs": [],
   "source": [
    "url ='https://www.amazon.com'\n",
    "driver.get(url)"
   ]
  },
  {
   "cell_type": "code",
   "execution_count": null,
   "id": "2f02344c",
   "metadata": {},
   "outputs": [],
   "source": [
    "def get_url(search_term, page):\n",
    "    \"\"\"Generate search terms form url\"\"\"\n",
    "    template = 'https://www.amazon.com/s?k={search_term}&qid=1639673296&ref=sr_pg_{page}'\n",
    "    search_term = search_term.replace(' ','+')\n",
    "    return template.format(search_term = search_term,page=page)\n",
    "\n"
   ]
  },
  {
   "cell_type": "markdown",
   "id": "b4c2e607",
   "metadata": {},
   "source": [
    "## Extract the collection"
   ]
  },
  {
   "cell_type": "code",
   "execution_count": null,
   "id": "dd4b4e1e",
   "metadata": {},
   "outputs": [],
   "source": [
    "\n",
    "soup = BeautifulSoup(driver.page_source, 'html.parser')\n"
   ]
  },
  {
   "cell_type": "code",
   "execution_count": null,
   "id": "3a2b672d",
   "metadata": {},
   "outputs": [],
   "source": [
    "results = soup.find_all('div', {\"data-component-type\": \"s-search-result\"})\n",
    "len(results)"
   ]
  },
  {
   "cell_type": "markdown",
   "id": "0b780ff2",
   "metadata": {},
   "source": [
    "## Prototype the data results"
   ]
  },
  {
   "cell_type": "code",
   "execution_count": null,
   "id": "bedd34bb",
   "metadata": {
    "scrolled": true
   },
   "outputs": [],
   "source": [
    "# Data need to scrape product_id, product_name, description, price, image, rating,category_id\n",
    "item = results[0]\n",
    "aTag = item.h2.a \n",
    "aTag.text.strip()"
   ]
  },
  {
   "cell_type": "code",
   "execution_count": null,
   "id": "350186de",
   "metadata": {},
   "outputs": [],
   "source": [
    "product_name = aTag.text \n",
    "product_name"
   ]
  },
  {
   "cell_type": "code",
   "execution_count": null,
   "id": "eceb711e",
   "metadata": {},
   "outputs": [],
   "source": [
    "rating = item.i.text\n",
    "rating"
   ]
  },
  {
   "cell_type": "code",
   "execution_count": null,
   "id": "9b0b7584",
   "metadata": {},
   "outputs": [],
   "source": [
    "url = 'https://www.amazon.com' + aTag.get('href')"
   ]
  },
  {
   "cell_type": "markdown",
   "id": "0190e6a9",
   "metadata": {},
   "source": [
    "## Get the product data"
   ]
  },
  {
   "cell_type": "code",
   "execution_count": 47,
   "id": "ebd51215",
   "metadata": {},
   "outputs": [],
   "source": [
    "import csv\n",
    "from bs4 import BeautifulSoup\n",
    "from msedge.selenium_tools import Edge, EdgeOptions\n",
    "\n",
    "def get_url(search_term):\n",
    "    template = 'https://www.amazon.com/s?k={}'\n",
    "    search_term = search_term.replace(' ', '+')\n",
    "    \n",
    "    # Add Term Query To URL\n",
    "    url = template.format(search_term)\n",
    "    \n",
    "    # Add Page Query Placeholder\n",
    "    url += '&page={}'\n",
    "    \n",
    "    return url\n",
    "\n",
    "def extract_record(item,product_id):\n",
    "    atag = item.h2.a\n",
    "    description = 'description not found'\n",
    "    product_name = atag.text.strip()\n",
    "    url = 'https://www.amazon.com' + atag.get('href')\n",
    "    \n",
    "    try:\n",
    "        price = item.find('span', 'a-price').find('span', 'a-offscreen').text\n",
    "        price = re.search(\"[+-]?\\d+\\.\\d+\", price).group()\n",
    "    except AttributeError:\n",
    "        return\n",
    "    \n",
    "    try:\n",
    "        rating = item.i.text\n",
    "        rating = re.search(\"[+-]?\\d+\\.\\d+\", rating).group()\n",
    "    except AttributeError:\n",
    "        rating = ''\n",
    "    \n",
    "    image = item.find('img', {'class': 's-image'}).get('src')  \n",
    "    image = image.replace('_AC_UY218_','_SL1500_',1) \n",
    "    result = (product_id,product_name,description, price, rating,url, image)\n",
    "    return result\n",
    "\n",
    "\n",
    "'''Run Main Program Routine'''\n",
    "def get_product_data(search_term):\n",
    "    # Initilize product_id\n",
    "    product_id = 200\n",
    "    # Startup The Webdriver\n",
    "    options = EdgeOptions()\n",
    "    options.use_chromium =True\n",
    "    driver = Edge(options=options)\n",
    "    \n",
    "    records = []\n",
    "    url =get_url(search_term)\n",
    "    \n",
    "    ## Change the number of pages here\n",
    "    num_page = 5\n",
    "    for page in range(1, num_page+1):\n",
    "        driver.get(url.format(page))\n",
    "        soup =BeautifulSoup(driver.page_source, 'html.parser')\n",
    "        \n",
    "        results = soup.find_all('div', {'data-component-type': 's-search-result'})\n",
    "\n",
    "        for item in results:\n",
    "            record = extract_record(item,product_id)\n",
    "            product_id = product_id + 1\n",
    "            if record:\n",
    "                records.append(record)\n",
    "                \n",
    "    driver.close()\n",
    "    # Save Results To CSV File\n",
    "    with open(f'{search_term}.csv', 'w', newline='', encoding='utf-8') as f:\n",
    "        writer = csv.writer(f)\n",
    "        writer.writerow(['product_id','product_name','description', 'price', 'rating', 'URL', 'image'])\n",
    "        writer.writerows(records)\n",
    "    return records\n",
    "    \n",
    "    "
   ]
  },
  {
   "cell_type": "code",
   "execution_count": 30,
   "id": "92cff1da",
   "metadata": {},
   "outputs": [
    {
     "data": {
      "text/plain": [
       "[(200,\n",
       "  'ROCCAT Vulcan 121 Mechanical PC Tactile Gaming Keyboard, Titan Switch, AIMO RGB Backlit Lighting Per Key, Anodized Aluminum Top Plate and Detachable Palm/Wrist Rest, Black',\n",
       "  'description not found',\n",
       "  '109.99',\n",
       "  '4.6',\n",
       "  'https://www.amazon.com/gp/slredirect/picassoRedirect.html/ref=pa_sp_atf_aps_sr_pg1_1?ie=UTF8&adId=A05574391YNG3UHC1H3QE&url=%2FVulcan-Aimo-Mechanical-Gaming-Keyboard%2Fdp%2FB07QGLQ6MS%2Fref%3Dsr_1_1_sspa%3Fkeywords%3Dmechanical%2Bkeyboard%26qid%3D1639967184%26sr%3D8-1-spons%26psc%3D1&qualifier=1639967184&id=970903349648083&widgetName=sp_atf',\n",
       "  'https://m.media-amazon.com/images/I/81uiSsVWezL._SL1500_.jpg'),\n",
       " (201,\n",
       "  'SteelSeries\\xa0Apex\\xa05\\xa0Hybrid Mechanical Gaming Keyboard – Per-Key RGB Illumination – Aircraft Grade Aluminum Alloy Frame – OLED Smart Display (Hybrid Blue Switch)',\n",
       "  'description not found',\n",
       "  '99.99',\n",
       "  '4.7',\n",
       "  'https://www.amazon.com/gp/slredirect/picassoRedirect.html/ref=pa_sp_atf_aps_sr_pg1_1?ie=UTF8&adId=A08394218S5ZEW3CYDWB&url=%2FSteelSeries-Apex-Hybrid-Mechanical-Gaming-Keyboard%2Fdp%2FB07ZGDD6B1%2Fref%3Dsr_1_2_sspa%3Fkeywords%3Dmechanical%2Bkeyboard%26qid%3D1639967184%26sr%3D8-2-spons%26psc%3D1&qualifier=1639967184&id=970903349648083&widgetName=sp_atf',\n",
       "  'https://m.media-amazon.com/images/I/81yd9W+0doL._SL1500_.jpg'),\n",
       " (203,\n",
       "  'CORSAIR K70 RGB MK.2 Mechanical Gaming Keyboard - USB Passthrough & Media Controls - Tactile & Clicky - Cherry MX Blue - RGB LED Backlit, CH-9109011-NA',\n",
       "  'description not found',\n",
       "  '109.99',\n",
       "  '4.7',\n",
       "  'https://www.amazon.com/CORSAIR-MK-2-Mechanical-Gaming-Keyboard/dp/B07D5W7R2X/ref=sr_1_4?keywords=mechanical+keyboard&qid=1639967184&sr=8-4',\n",
       "  'https://m.media-amazon.com/images/I/81aB+1Dd6KL._SL1500_.jpg'),\n",
       " (204,\n",
       "  'Razer Ornata Chroma Gaming Keyboard: Hybrid Mechanical Key Switches - Customizable Chroma RGB Lighting - Individually Backlit Keys - Detachable Plush Wrist Rest - Programmable Macro Functionality',\n",
       "  'description not found',\n",
       "  '59.99',\n",
       "  '4.7',\n",
       "  'https://www.amazon.com/Razer-Ornata-Chroma-Mecha-Membrane-Individually/dp/B01LVTI3TO/ref=sr_1_5?keywords=mechanical+keyboard&qid=1639967184&sr=8-5',\n",
       "  'https://m.media-amazon.com/images/I/8116DtW4WWL._SL1500_.jpg'),\n",
       " (205,\n",
       "  'Razer BlackWidow V3 Mechanical Gaming Keyboard: Green Mechanical Switches - Tactile & Clicky - Chroma RGB Lighting - Compact Form Factor - Programmable Macro Functionality, Classic Black',\n",
       "  'description not found',\n",
       "  '89.99',\n",
       "  '4.7',\n",
       "  'https://www.amazon.com/Razer-BlackWidow-Mechanical-Gaming-Keyboard/dp/B08FQPLCNC/ref=sr_1_6?keywords=mechanical+keyboard&qid=1639967184&sr=8-6',\n",
       "  'https://m.media-amazon.com/images/I/81-+oewJgQL._SL1500_.jpg'),\n",
       " (206,\n",
       "  'Fiodio Mechanical Gaming Keyboard, Fantastic LED Rainbow Backlit Wired Keyboard, Full Anti-Ghosting Keys, with Quick-Response Blue Switches and Multimedia Control for PC and Desktop Computer',\n",
       "  'description not found',\n",
       "  '26.25',\n",
       "  '4.2',\n",
       "  'https://www.amazon.com/gp/slredirect/picassoRedirect.html/ref=pa_sp_mtf_aps_sr_pg1_1?ie=UTF8&adId=A075925495XT78ADDSE4&url=%2FFIODIO-Mechanical-Anti-Ghosting-Quick-Response-Multimedia%2Fdp%2FB086161951%2Fref%3Dsr_1_7_sspa%3Fkeywords%3Dmechanical%2Bkeyboard%26qid%3D1639967184%26sr%3D8-7-spons%26psc%3D1&qualifier=1639967184&id=970903349648083&widgetName=sp_mtf',\n",
       "  'https://m.media-amazon.com/images/I/71mzcD2N9iL._SL1500_.jpg'),\n",
       " (208,\n",
       "  'SteelSeries Apex Pro Mechanical Gaming Keyboard – Adjustable Actuation Switches – World’s Fastest Mechanical Keyboard – OLED Smart Display – RGB Backlit',\n",
       "  'description not found',\n",
       "  '191.72',\n",
       "  '4.8',\n",
       "  'https://www.amazon.com/SteelSeries-Apex-Mechanical-Gaming-Keyboard/dp/B07SVJJCP3/ref=sr_1_9?keywords=mechanical+keyboard&qid=1639967184&sr=8-9',\n",
       "  'https://m.media-amazon.com/images/I/81yOuAUQAiL._SL1500_.jpg'),\n",
       " (209,\n",
       "  'Corsair K60 RGB Pro Mechanical Gaming Keyboard - CHERRY Mechanical Keyswitches - Durable AluminumFrame - Customizable Per-Key RGB Backlighting',\n",
       "  'description not found',\n",
       "  '69.99',\n",
       "  '4.5',\n",
       "  'https://www.amazon.com/Corsair-Mechanical-Gaming-Keyboard-Key/dp/B08L61WLW7/ref=sr_1_10?keywords=mechanical+keyboard&qid=1639967184&sr=8-10',\n",
       "  'https://m.media-amazon.com/images/I/5126axX282L._SL1500_.jpg'),\n",
       " (217,\n",
       "  'Corsair K65 RGB MINI 60% Mechanical Gaming Keyboard (Customizable Per-Key RGB Backlighting, CHERRY MX Speed Mechanical Keyswitches, Detachable USB Type-C Cable, AXON Hyper-Processing Technology) Black',\n",
       "  'description not found',\n",
       "  '89.99',\n",
       "  '4.7',\n",
       "  'https://www.amazon.com/Corsair-Customizable-Backlighting-Keyswitches-Hyper-Processing/dp/B08W2CSXLM/ref=sr_1_18?keywords=mechanical+keyboard&qid=1639967184&sr=8-18',\n",
       "  'https://m.media-amazon.com/images/I/81c97WZRqPL._SL1500_.jpg'),\n",
       " (219,\n",
       "  'Fiodio Mechanical Gaming Keyboard, Wired RGB Rainbow Backlit Keyboard with Blue Switches, Ergonomic Standard Keyboard for Desktop, Computer, PC',\n",
       "  'description not found',\n",
       "  '47.14',\n",
       "  '4.3',\n",
       "  'https://www.amazon.com/gp/slredirect/picassoRedirect.html/ref=pa_sp_btf_aps_sr_pg1_1?ie=UTF8&adId=A02028461X7ICMD20Q3Q6&url=%2FFIODIO-Mechanical-Keyboard-Ergonomic-FK-2063-US%2Fdp%2FB08MWP6CK4%2Fref%3Dsr_1_20_sspa%3Fkeywords%3Dmechanical%2Bkeyboard%26qid%3D1639967184%26sr%3D8-20-spons%26psc%3D1&qualifier=1639967184&id=970903349648083&widgetName=sp_btf',\n",
       "  'https://m.media-amazon.com/images/I/71Rl-8eqiSS._SL1500_.jpg'),\n",
       " (220,\n",
       "  'ASUS ROG Strix Flare Pnk (Cherry MX Brown) Limited Edition Mechanical Gaming Keyboard with Switches, Aura Sync RGB Lighting, Customizable Badge, USB Pass Through and Media CONTROLS',\n",
       "  'description not found',\n",
       "  '123.50',\n",
       "  '4.7',\n",
       "  'https://www.amazon.com/gp/slredirect/picassoRedirect.html/ref=pa_sp_btf_aps_sr_pg1_1?ie=UTF8&adId=A07125397NINJZV7XCNY&url=%2FASUS-Mechanical-Keyboard-Switches-Customizable%2Fdp%2FB07SQ4WC8H%2Fref%3Dsr_1_21_sspa%3Fkeywords%3Dmechanical%2Bkeyboard%26qid%3D1639967184%26sr%3D8-21-spons%26psc%3D1&qualifier=1639967184&id=970903349648083&widgetName=sp_btf',\n",
       "  'https://m.media-amazon.com/images/I/81StA5Ss8BL._SL1500_.jpg'),\n",
       " (221,\n",
       "  'ROCCAT Vulcan TKL Pro Tenkeyless Linear Optical Titan Switch PC Gaming Keyboard with Per-key AIMO RGB Lighting, Anodized Aluminum Top Plate, and Detachable USB-C Cable, Black',\n",
       "  'description not found',\n",
       "  '119.99',\n",
       "  '4.7',\n",
       "  'https://www.amazon.com/gp/slredirect/picassoRedirect.html/ref=pa_sp_btf_aps_sr_pg1_1?ie=UTF8&adId=A012966513LKAJTZY3NWG&url=%2FROCCAT-Vulcan-Compact-Optical-Keyboard%2Fdp%2FB08J4DGBB9%2Fref%3Dsr_1_22_sspa%3Fkeywords%3Dmechanical%2Bkeyboard%26qid%3D1639967184%26sr%3D8-22-spons%26psc%3D1&qualifier=1639967184&id=970903349648083&widgetName=sp_btf',\n",
       "  'https://m.media-amazon.com/images/I/81P9ld98tLL._SL1500_.jpg')]"
      ]
     },
     "execution_count": 30,
     "metadata": {},
     "output_type": "execute_result"
    }
   ],
   "source": [
    "get_product_data('mechanical keyboard')"
   ]
  },
  {
   "cell_type": "markdown",
   "id": "d8b0deaa",
   "metadata": {},
   "source": [
    "## Scrape Review from Amazon specific website "
   ]
  },
  {
   "cell_type": "code",
   "execution_count": 33,
   "id": "125e86f4",
   "metadata": {},
   "outputs": [],
   "source": [
    "import csv\n",
    "def get_product_link(search_term):\n",
    "    urls = []\n",
    "    with open(f'./{search_term}.csv') as f:\n",
    "        reader = csv.reader(f)\n",
    "        for row in reader:\n",
    "            urls.append(row[5])\n",
    "    del urls[:1]\n",
    "    return urls"
   ]
  },
  {
   "cell_type": "code",
   "execution_count": 35,
   "id": "8d1d3803",
   "metadata": {},
   "outputs": [],
   "source": [
    "from bs4 import BeautifulSoup\n",
    "from msedge.selenium_tools import Edge, EdgeOptions\n",
    "\n",
    "def get_all_reviews_url(urls):\n",
    "    options = EdgeOptions()\n",
    "    options.use_chromium =True\n",
    "    driver = Edge(options=options)\n",
    "    all_reviews_urls = []\n",
    "    # use driver to travese through each link\n",
    "    for url in urls:\n",
    "        driver.get(url)\n",
    "        soup = BeautifulSoup(driver.page_source,'html.parser')\n",
    "        item = soup.find('a', {'data-hook': 'see-all-reviews-link-foot'})\n",
    "        if item:\n",
    "            link = 'https://www.amazon.com'+ item.get('href')\n",
    "            all_reviews_urls.append(link)\n",
    "        else:\n",
    "            all_reviews_urls.append(\"url not found\")\n",
    "    return all_reviews_urls\n"
   ]
  },
  {
   "cell_type": "markdown",
   "id": "027b14b4",
   "metadata": {},
   "source": [
    "## Scrape review data"
   ]
  },
  {
   "cell_type": "code",
   "execution_count": null,
   "id": "2f2ddd6c",
   "metadata": {},
   "outputs": [],
   "source": [
    "## Get review data"
   ]
  },
  {
   "cell_type": "code",
   "execution_count": 36,
   "id": "fb0715d2",
   "metadata": {},
   "outputs": [],
   "source": [
    "import csv\n",
    "## get a list of product ids\n",
    "def get_product_ids(search_name):\n",
    "    product_list = []\n",
    "    with open(f'./{search_name}.csv') as f:\n",
    "        reader = csv.reader(f)\n",
    "        for row in reader:\n",
    "                product_list.append(row[0])\n",
    "    product_list.pop(0)\n",
    "    return product_list"
   ]
  },
  {
   "cell_type": "code",
   "execution_count": 37,
   "id": "01dc60a4",
   "metadata": {},
   "outputs": [],
   "source": [
    "import pandas as pd\n",
    "import re\n",
    "import datetime \n",
    "import random"
   ]
  },
  {
   "cell_type": "code",
   "execution_count": 38,
   "id": "b1c6ba5d",
   "metadata": {},
   "outputs": [],
   "source": [
    "def get_current_time():\n",
    "    now = datetime.datetime.now().strftime('%Y-%m-%d %H:%M:%S')\n",
    "    return now"
   ]
  },
  {
   "cell_type": "code",
   "execution_count": 41,
   "id": "ff0388f1",
   "metadata": {},
   "outputs": [],
   "source": [
    "def get_review_on_page(soup, init_id,product_id):\n",
    "    review_ids = []\n",
    "    review_time = []\n",
    "    user_ids = []\n",
    "    product_ids = []\n",
    "    temp_id = init_id\n",
    "    #Get review rating \n",
    "    rating = soup.find_all('i',class_='review-rating')\n",
    "    del rating[:2] ## Delete 2 first unecessary elements \n",
    "    overalls = []\n",
    "    for i in range(0,len(rating)):\n",
    "        temp_rating = re.search(\"[+-]?\\d+\\.\\d+\", rating[i].getText()).group()\n",
    "        overalls.append(temp_rating)\n",
    "        review_ids.append(temp_id)\n",
    "        temp_id = temp_id + 1\n",
    "        review_time.append(get_current_time())\n",
    "        user_ids.append(random.randint(1, 20))\n",
    "        product_ids.append(product_id)\n",
    "    review = soup.find_all(\"span\",{\"data-hook\":\"review-body\"})\n",
    "    \n",
    "    # Get review content\n",
    "    review_texts = []\n",
    "    for i in range(0,len(review)):\n",
    "        review_texts.append(review[i].get_text())\n",
    "    review_texts[:] = [reviews.lstrip('\\n') for reviews in review_texts]\n",
    "    review_texts[:] = [reviews.rstrip('\\n') for reviews in review_texts]\n",
    "    return review_ids,review_texts, review_time,overalls,user_ids,product_ids, temp_id\n"
   ]
  },
  {
   "cell_type": "code",
   "execution_count": 42,
   "id": "57b57af7",
   "metadata": {},
   "outputs": [],
   "source": [
    "    # Write CSV file \n",
    "def write_csv(review_ids,review_texts,review_time,overalls,user_ids,product_ids):\n",
    " df = pd.DataFrame()\n",
    " df['review_id']=pd.Series(review_ids)\n",
    " df['review_text']=pd.Series(review_texts)\n",
    " df['review_time']=pd.Series(review_time)\n",
    " df['overall']=pd.Series(overalls)\n",
    " df['user_id']=pd.Series(user_ids)\n",
    " df['product_id']=pd.Series(product_ids)\n",
    " df.to_csv(f'./review_test.csv',index=False)  \n",
    "    "
   ]
  },
  {
   "cell_type": "code",
   "execution_count": 43,
   "id": "36f28e72",
   "metadata": {},
   "outputs": [],
   "source": [
    "\n",
    "def get_product_reviews(urls,search_name):\n",
    "    ## Run driver \n",
    "    options = EdgeOptions()\n",
    "    options.use_chromium =True\n",
    "    driver = Edge(options=options)\n",
    "    \n",
    "    ## Innitilize data\n",
    "    init_rvId = 200\n",
    "    review_ids = []\n",
    "    review_texts = []\n",
    "    review_time = []\n",
    "    overalls = []\n",
    "    user_ids = []\n",
    "    product_ids = []\n",
    "    init_product_ids = get_product_ids(search_name)\n",
    "    \n",
    "    for url in urls:\n",
    "        driver.get(url)\n",
    "        soup =BeautifulSoup(driver.page_source, 'html.parser')\n",
    "        result = get_review_on_page(soup, init_rvId,init_product_ids[0])\n",
    "        review_ids =  review_ids + result[0]\n",
    "        review_texts = review_texts + result[1]\n",
    "        review_time = review_time + result[2]\n",
    "        overalls =  overalls + result[3]\n",
    "        user_ids = user_ids + result[4]\n",
    "        product_ids = product_ids + result[5]\n",
    "        init_rvId = result[6]\n",
    "        del init_product_ids[:1]\n",
    "    driver.close()\n",
    "    \n",
    "    write_csv(review_ids,review_texts,review_time,overalls,user_ids,product_ids)\n",
    "    \n"
   ]
  },
  {
   "cell_type": "markdown",
   "id": "59a6e39f",
   "metadata": {},
   "source": [
    "## Main program"
   ]
  },
  {
   "cell_type": "code",
   "execution_count": 44,
   "id": "89c5dafa",
   "metadata": {},
   "outputs": [],
   "source": [
    "def main(search_term):\n",
    "    results = get_product_data(search_term)\n",
    "    urls = get_product_link(search_term)\n",
    "    all_review_urls = get_all_reviews_url(urls)\n",
    "    get_product_reviews(all_review_urls,search_term)\n",
    "    "
   ]
  },
  {
   "cell_type": "code",
   "execution_count": 48,
   "id": "5b675f0f",
   "metadata": {},
   "outputs": [],
   "source": [
    "main('mechanical keyboard')"
   ]
  }
 ],
 "metadata": {
  "kernelspec": {
   "display_name": "Python 3 (ipykernel)",
   "language": "python",
   "name": "python3"
  },
  "language_info": {
   "codemirror_mode": {
    "name": "ipython",
    "version": 3
   },
   "file_extension": ".py",
   "mimetype": "text/x-python",
   "name": "python",
   "nbconvert_exporter": "python",
   "pygments_lexer": "ipython3",
   "version": "3.9.6"
  }
 },
 "nbformat": 4,
 "nbformat_minor": 5
}
