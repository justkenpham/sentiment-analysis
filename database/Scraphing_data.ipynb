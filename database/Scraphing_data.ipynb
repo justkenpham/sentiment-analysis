{
 "cells": [
  {
   "cell_type": "markdown",
   "id": "b4cfb494",
   "metadata": {},
   "source": [
    "## Install all libraries"
   ]
  },
  {
   "cell_type": "code",
   "execution_count": null,
   "id": "0e5b9b56",
   "metadata": {},
   "outputs": [],
   "source": [
    "import csv\n",
    "from bs4 import BeautifulSoup"
   ]
  },
  {
   "cell_type": "code",
   "execution_count": 137,
   "id": "a12d23f3",
   "metadata": {
    "scrolled": true
   },
   "outputs": [
    {
     "name": "stdout",
     "output_type": "stream",
     "text": [
      "Requirement already satisfied: msedge-selenium-tools in c:\\users\\dat\\appdata\\local\\programs\\python\\python39\\lib\\site-packages (3.141.3)\n",
      "Requirement already satisfied: selenium==3.141 in c:\\users\\dat\\appdata\\local\\programs\\python\\python39\\lib\\site-packages (3.141.0)\n",
      "Requirement already satisfied: urllib3 in c:\\users\\dat\\appdata\\local\\programs\\python\\python39\\lib\\site-packages (from selenium==3.141) (1.26.6)\n"
     ]
    }
   ],
   "source": [
    "# Install Firefox & Chrome\n",
    "!pip install msedge-selenium-tools selenium==3.141"
   ]
  },
  {
   "cell_type": "code",
   "execution_count": 1,
   "id": "babf2043",
   "metadata": {},
   "outputs": [],
   "source": [
    "# edge\n",
    "from msedge.selenium_tools import Edge, EdgeOptions\n",
    "\n",
    "# # Launch Microsoft Edge (EdgeHTML)\n",
    "options = EdgeOptions()\n",
    "options.use_chromium =True\n",
    "driver = Edge(options=options)"
   ]
  },
  {
   "cell_type": "code",
   "execution_count": 2,
   "id": "b1ae72d4",
   "metadata": {},
   "outputs": [],
   "source": [
    "url ='https://www.amazon.com'\n",
    "driver.get(url)"
   ]
  },
  {
   "cell_type": "code",
   "execution_count": 3,
   "id": "2f02344c",
   "metadata": {},
   "outputs": [],
   "source": [
    "def get_url(search_term, page):\n",
    "    \"\"\"Generate search terms form url\"\"\"\n",
    "    template = 'https://www.amazon.com/s?k={search_term}&qid=1639673296&ref=sr_pg_{page}'\n",
    "    search_term = search_term.replace(' ','+')\n",
    "    return template.format(search_term = search_term,page=page)\n",
    "\n"
   ]
  },
  {
   "cell_type": "code",
   "execution_count": 4,
   "id": "2b87838c",
   "metadata": {},
   "outputs": [],
   "source": [
    "url = get_url('monitor',2)\n",
    "driver.get(url)\n"
   ]
  },
  {
   "cell_type": "markdown",
   "id": "b4c2e607",
   "metadata": {},
   "source": [
    "## Extract the collection"
   ]
  },
  {
   "cell_type": "code",
   "execution_count": null,
   "id": "dd4b4e1e",
   "metadata": {},
   "outputs": [],
   "source": [
    "\n",
    "soup = BeautifulSoup(driver.page_source, 'html.parser')\n"
   ]
  },
  {
   "cell_type": "code",
   "execution_count": null,
   "id": "3a2b672d",
   "metadata": {},
   "outputs": [
    {
     "data": {
      "text/plain": [
       "22"
      ]
     },
     "execution_count": 8,
     "metadata": {},
     "output_type": "execute_result"
    }
   ],
   "source": [
    "results = soup.find_all('div', {\"data-component-type\": \"s-search-result\"})\n",
    "len(results)"
   ]
  },
  {
   "cell_type": "markdown",
   "id": "0b780ff2",
   "metadata": {},
   "source": [
    "## Prototype the data results"
   ]
  },
  {
   "cell_type": "code",
   "execution_count": null,
   "id": "bedd34bb",
   "metadata": {
    "scrolled": true
   },
   "outputs": [
    {
     "data": {
      "text/plain": [
       "'LG 32QN600-B 32-Inch QHD (2560 x 1440) IPS Monitor with HDR 10, AMD FreeSync with Dual HDMI Inputs, Black'"
      ]
     },
     "execution_count": 22,
     "metadata": {},
     "output_type": "execute_result"
    }
   ],
   "source": [
    "# Data need to scrape product_id, product_name, description, price, image, rating,category_id\n",
    "item = results[0]\n",
    "aTag = item.h2.a \n",
    "aTag.text.strip()"
   ]
  },
  {
   "cell_type": "code",
   "execution_count": null,
   "id": "350186de",
   "metadata": {},
   "outputs": [
    {
     "data": {
      "text/plain": [
       "'LG 32QN600-B 32-Inch QHD (2560 x 1440) IPS Monitor with HDR 10, AMD FreeSync with Dual HDMI Inputs, Black '"
      ]
     },
     "execution_count": 24,
     "metadata": {},
     "output_type": "execute_result"
    }
   ],
   "source": [
    "product_name = aTag.text \n",
    "product_name"
   ]
  },
  {
   "cell_type": "code",
   "execution_count": null,
   "id": "eceb711e",
   "metadata": {},
   "outputs": [
    {
     "data": {
      "text/plain": [
       "'4.7 out of 5 stars'"
      ]
     },
     "execution_count": 25,
     "metadata": {},
     "output_type": "execute_result"
    }
   ],
   "source": [
    "rating = item.i.text\n",
    "rating"
   ]
  },
  {
   "cell_type": "code",
   "execution_count": null,
   "id": "9b0b7584",
   "metadata": {},
   "outputs": [
    {
     "name": "stdout",
     "output_type": "stream",
     "text": [
      "https://www.amazon.com/gp/slredirect/picassoRedirect.html/ref=pa_sp_atf_aps_sr_pg1_1?ie=UTF8&adId=A10025863LB87K3EBUFAE&url=%2FLG-32QN600-B-32-Inch-Monitor-FreeSync%2Fdp%2FB088YN9LBK%2Fref%3Dsr_1_1_sspa%3Fkeywords%3Dmonitor%26qid%3D1639727042%26sr%3D8-1-spons%26psc%3D1&qualifier=1639727042&id=956761015867833&widgetName=sp_atf\n"
     ]
    }
   ],
   "source": [
    "url = 'https://www.amazon.com' + aTag.get('href')\n",
    "print(url)"
   ]
  },
  {
   "cell_type": "markdown",
   "id": "0190e6a9",
   "metadata": {},
   "source": [
    "## Get the product data"
   ]
  },
  {
   "cell_type": "code",
   "execution_count": 63,
   "id": "ebd51215",
   "metadata": {},
   "outputs": [],
   "source": [
    "import csv\n",
    "from bs4 import BeautifulSoup\n",
    "from msedge.selenium_tools import Edge, EdgeOptions\n",
    "\n",
    "def get_url(search_term):\n",
    "    template = 'https://www.amazon.com/s?k={}'\n",
    "    search_term = search_term.replace(' ', '+')\n",
    "    \n",
    "    # Add Term Query To URL\n",
    "    url = template.format(search_term)\n",
    "    \n",
    "    # Add Page Query Placeholder\n",
    "    url += '&page={}'\n",
    "    \n",
    "    return url\n",
    "\n",
    "def extract_record(item,product_id):\n",
    "    atag = item.h2.a\n",
    "    description = 'description no found'\n",
    "    product_name = atag.text.strip()\n",
    "    url = 'https://www.amazon.com' + atag.get('href')\n",
    "    \n",
    "    try:\n",
    "        price = item.find('span', 'a-price').find('span', 'a-offscreen').text\n",
    "    except AttributeError:\n",
    "        return\n",
    "    \n",
    "    try:\n",
    "        rating = item.i.text\n",
    "    except AttributeError:\n",
    "        rating = ''\n",
    "    \n",
    "    image = item.find('img', {'class': 's-image'}).get('src')   \n",
    "    result = (product_id,product_name,description, price, rating,url, image)\n",
    "    return result\n",
    "\n",
    "\n",
    "'''Run Main Program Routine'''\n",
    "def get_product_data(search_term):\n",
    "    # Initilize product_id\n",
    "    product_id = 200\n",
    "    # Startup The Webdriver\n",
    "    options = EdgeOptions()\n",
    "    options.use_chromium =True\n",
    "    driver = Edge(options=options)\n",
    "    \n",
    "    records = []\n",
    "    url =get_url(search_term)\n",
    "    \n",
    "    ## Change the number of pages here\n",
    "    num_page = 1\n",
    "    for page in range(1, num_page+1):\n",
    "        driver.get(url.format(page))\n",
    "        soup =BeautifulSoup(driver.page_source, 'html.parser')\n",
    "        \n",
    "        results = soup.find_all('div', {'data-component-type': 's-search-result'})\n",
    "\n",
    "        for item in results:\n",
    "            record = extract_record(item,product_id)\n",
    "            product_id = product_id + 1\n",
    "            if record:\n",
    "                records.append(record)\n",
    "                \n",
    "    driver.close()\n",
    "    # Save Results To CSV File\n",
    "    with open(f'{search_term}.csv', 'w', newline='', encoding='utf-8') as f:\n",
    "        writer = csv.writer(f)\n",
    "        writer.writerow(['product_id','product_name','description', 'price', 'rating', 'URL', 'image'])\n",
    "        writer.writerows(records)\n",
    "    return records\n",
    "    \n",
    "    "
   ]
  },
  {
   "cell_type": "markdown",
   "id": "d8b0deaa",
   "metadata": {},
   "source": [
    "## Scrape Review from Amazon specific website "
   ]
  },
  {
   "cell_type": "code",
   "execution_count": 64,
   "id": "125e86f4",
   "metadata": {},
   "outputs": [],
   "source": [
    "import csv\n",
    "def get_product_link(search_term):\n",
    "    urls = []\n",
    "    with open(f'./{search_term}.csv') as f:\n",
    "        reader = csv.reader(f)\n",
    "        for row in reader:\n",
    "            print(row[5])\n",
    "            urls.append(row[5])\n",
    "    del urls[:1]\n",
    "    return urls"
   ]
  },
  {
   "cell_type": "code",
   "execution_count": 53,
   "id": "8d1d3803",
   "metadata": {},
   "outputs": [],
   "source": [
    "from bs4 import BeautifulSoup\n",
    "from msedge.selenium_tools import Edge, EdgeOptions\n",
    "\n",
    "def get_all_reviews_url(urls):\n",
    "    options = EdgeOptions()\n",
    "    options.use_chromium =True\n",
    "    driver = Edge(options=options)\n",
    "    all_reviews_urls = []\n",
    "    # use driver to travese through each link\n",
    "    for url in urls:\n",
    "        driver.get(url)\n",
    "        soup = BeautifulSoup(driver.page_source,'html.parser')\n",
    "        item = soup.find('a', {'data-hook': 'see-all-reviews-link-foot'})\n",
    "        if item:\n",
    "            link = 'https://www.amazon.com'+ item.get('href')\n",
    "            all_reviews_urls.append(link)\n",
    "        else:\n",
    "            all_reviews_urls.append(\"url not found\")\n",
    "    return all_reviews_urls\n"
   ]
  },
  {
   "cell_type": "code",
   "execution_count": null,
   "id": "e411d68e",
   "metadata": {},
   "outputs": [
    {
     "data": {
      "text/plain": [
       "['https://www.amazon.com/Unlocked-Smartphone-Intuitive-Warranty-Lavender/product-reviews/B097CMXJ4F/ref=cm_cr_dp_d_show_all_btm?ie=UTF8&reviewerType=all_reviews',\n",
       " 'https://www.amazon.com/Samsung-Factory-Unlocked-Smartphone-Resistant/product-reviews/B08XX4P7LB/ref=cm_cr_dp_d_show_all_btm?ie=UTF8&reviewerType=all_reviews',\n",
       " 'https://www.amazon.com/Unlocked-Smartphone-Intuitive-Warranty-Lavender/product-reviews/B097CMXJ4F/ref=cm_cr_dp_d_show_all_btm?ie=UTF8&reviewerType=all_reviews',\n",
       " 'https://www.amazon.com/Samsung-Electronics-Unlocked-Smartphone-Foldable/product-reviews/B097CNBDX2/ref=cm_cr_dp_d_show_all_btm?ie=UTF8&reviewerType=all_reviews',\n",
       " 'https://www.amazon.com/Samsung-Factory-Unlocked-Smartphone-Pro-Grade/product-reviews/B08FYTSXGQ/ref=cm_cr_dp_d_show_all_btm?ie=UTF8&reviewerType=all_reviews',\n",
       " 'https://www.amazon.com/Mahogany-Charging-Station-Organizer-Samsung/product-reviews/B00748X51M/ref=cm_cr_dp_d_show_all_btm?ie=UTF8&reviewerType=all_reviews',\n",
       " 'https://www.amazon.com/Samsung-Electronics-Protective-Shockproof-EF-XF711SBEGUS/product-reviews/B0977LWNC7/ref=cm_cr_dp_d_show_all_btm?ie=UTF8&reviewerType=all_reviews',\n",
       " 'https://www.amazon.com/Samsung-Protective-Shockproof-Smartphone-Transparent/product-reviews/B0977MQNHK/ref=cm_cr_dp_d_show_all_btm?ie=UTF8&reviewerType=all_reviews',\n",
       " 'https://www.amazon.com/Samsung-Electronics-Protective-Shockproof-EF-VF711LBEGUS/product-reviews/B0977KZW6J/ref=cm_cr_dp_d_show_all_btm?ie=UTF8&reviewerType=all_reviews',\n",
       " 'https://www.amazon.com/Samsung-Electronics-Protective-Shockproof-EF-VF926LBEGUS/product-reviews/B0977JZH1C/ref=cm_cr_dp_d_show_all_btm?ie=UTF8&reviewerType=all_reviews',\n",
       " 'https://www.amazon.com/Motorola-Unlocked-256GB-Camera-Solor/product-reviews/B08B9SGGRS/ref=cm_cr_dp_d_show_all_btm?ie=UTF8&reviewerType=all_reviews',\n",
       " 'https://www.amazon.com/Samsung-Unlocked-Storage-Version-Warranty/product-reviews/B085WTR7BJ/ref=cm_cr_dp_d_show_all_btm?ie=UTF8&reviewerType=all_reviews',\n",
       " 'https://www.amazon.com/tech21-EvoSlim-Phone-Samsung-Protection/product-reviews/B08S2B7NQH/ref=cm_cr_dp_d_show_all_btm?ie=UTF8&reviewerType=all_reviews',\n",
       " 'https://www.amazon.com/Simple-Mobile-SAMSUNG-Prepaid-Smartphone/product-reviews/B08WJMSJ23/ref=cm_cr_dp_d_show_all_btm?ie=UTF8&reviewerType=all_reviews',\n",
       " 'https://www.amazon.com/tech21-EvoWallet-Samsung-Ultra-Antimicrobial/product-reviews/B08S24JMRR/ref=cm_cr_dp_d_show_all_btm?ie=UTF8&reviewerType=all_reviews',\n",
       " 'https://www.amazon.com/OnePlus-Unlocked-Android-Smartphone-Charging/product-reviews/B07XWGWPH5/ref=cm_cr_dp_d_show_all_btm?ie=UTF8&reviewerType=all_reviews',\n",
       " 'https://www.amazon.com/tech21-Sparkle-Case-Samsung-Galaxy/product-reviews/B08W22FRD7/ref=cm_cr_dp_d_show_all_btm?ie=UTF8&reviewerType=all_reviews',\n",
       " 'https://www.amazon.com/Samsung-Electronics-Protective-Shockproof-EF-VF926LAEGUS/product-reviews/B0977LNJ2V/ref=cm_cr_dp_d_show_all_btm?ie=UTF8&reviewerType=all_reviews',\n",
       " 'https://www.amazon.com/Samsung-Galaxy-128GB-Cosmic-Gray/product-reviews/B09739LDTM/ref=cm_cr_dp_d_show_all_btm?ie=UTF8&reviewerType=all_reviews',\n",
       " 'https://www.amazon.com/tech21-EvoClear-Samsung-S21-Ultra/product-reviews/B08S2LR654/ref=cm_cr_dp_d_show_all_btm?ie=UTF8&reviewerType=all_reviews',\n",
       " 'https://www.amazon.com/ZAGG-InvisibleShield-Ultra-visionguard-Plus/product-reviews/B084LLDB2B/ref=cm_cr_dp_d_show_all_btm?ie=UTF8&reviewerType=all_reviews',\n",
       " 'https://www.amazon.com/Samsung-Galaxy-A325F-DS-Factory-Unlocked/product-reviews/B08X7Z278W/ref=cm_cr_dp_d_show_all_btm?ie=UTF8&reviewerType=all_reviews',\n",
       " 'https://www.amazon.com/tech21-Slim-Case-Samsung-Plus/product-reviews/B08S22JCPB/ref=cm_cr_dp_d_show_all_btm?ie=UTF8&reviewerType=all_reviews',\n",
       " 'https://www.amazon.com/tech21-EvoWallet-Samsung-S21-Antimicrobial/product-reviews/B08S1NJXVN/ref=cm_cr_dp_d_show_all_btm?ie=UTF8&reviewerType=all_reviews',\n",
       " 'https://www.amazon.com/tech21-EvoClear-Samsung-S21-Ultra/product-reviews/B08S1Z7Q6W/ref=cm_cr_dp_d_show_all_btm?ie=UTF8&reviewerType=all_reviews',\n",
       " 'https://www.amazon.com/tech21-Sparkle-Case-Samsung-Galaxy/product-reviews/B08W1ZHZ7Y/ref=cm_cr_dp_d_show_all_btm?ie=UTF8&reviewerType=all_reviews',\n",
       " 'url not found',\n",
       " 'url not found',\n",
       " 'url not found',\n",
       " 'https://www.amazon.com/Samsung-Galaxy-A528B-Factory-Unlocked/product-reviews/B09GRFXNDZ/ref=cm_cr_dp_d_show_all_btm?ie=UTF8&reviewerType=all_reviews',\n",
       " 'https://www.amazon.com/Samsung-Electronics-Unlocked-Smartphone-SM-F916UZKAXAA/product-reviews/B08GL5YRQT/ref=cm_cr_dp_d_show_all_btm?ie=UTF8&reviewerType=all_reviews',\n",
       " 'https://www.amazon.com/Tech21-Evo-Lite-Samsung-Galaxy/product-reviews/B09CDHFK6K/ref=cm_cr_dp_d_show_all_btm?ie=UTF8&reviewerType=all_reviews',\n",
       " 'https://www.amazon.com/Kenu-Airframe-Android-Accessories-Samsung/product-reviews/B074Q433TL/ref=cm_cr_dp_d_show_all_btm?ie=UTF8&reviewerType=all_reviews']"
      ]
     },
     "execution_count": 87,
     "metadata": {},
     "output_type": "execute_result"
    }
   ],
   "source": [
    "all_reviews_urls"
   ]
  },
  {
   "cell_type": "code",
   "execution_count": null,
   "id": "cead9542",
   "metadata": {},
   "outputs": [
    {
     "data": {
      "text/plain": [
       "'https://www.amazon.com/Unlocked-Smartphone-Intuitive-Warranty-Lavender/product-reviews/B097CMXJ4F/ref=cm_cr_dp_d_show_all_btm?ie=UTF8&reviewerType=all_reviews'"
      ]
     },
     "execution_count": 109,
     "metadata": {},
     "output_type": "execute_result"
    }
   ],
   "source": [
    "all_reviews_urls[0]"
   ]
  },
  {
   "cell_type": "markdown",
   "id": "027b14b4",
   "metadata": {},
   "source": [
    "## Scrape review data"
   ]
  },
  {
   "cell_type": "code",
   "execution_count": null,
   "id": "2f2ddd6c",
   "metadata": {},
   "outputs": [],
   "source": [
    "## Get review data"
   ]
  },
  {
   "cell_type": "code",
   "execution_count": 54,
   "id": "fb0715d2",
   "metadata": {},
   "outputs": [],
   "source": [
    "import csv\n",
    "## get a list of product ids\n",
    "def get_product_ids(search_name):\n",
    "    product_list = []\n",
    "    with open(f'./{search_name}.csv') as f:\n",
    "        reader = csv.reader(f)\n",
    "        for row in reader:\n",
    "                product_list.append(row[0])\n",
    "    product_list.pop(0)\n",
    "    return product_list"
   ]
  },
  {
   "cell_type": "code",
   "execution_count": 55,
   "id": "01dc60a4",
   "metadata": {},
   "outputs": [],
   "source": [
    "import pandas as pd\n",
    "import re\n",
    "import datetime \n",
    "import random"
   ]
  },
  {
   "cell_type": "code",
   "execution_count": 56,
   "id": "b1c6ba5d",
   "metadata": {},
   "outputs": [],
   "source": [
    "def get_current_time():\n",
    "    now = datetime.datetime.now().strftime('%Y-%m-%d %H:%M:%S')\n",
    "    return now"
   ]
  },
  {
   "cell_type": "code",
   "execution_count": 58,
   "id": "ff0388f1",
   "metadata": {},
   "outputs": [],
   "source": [
    "def get_review_on_page(soup, init_id,product_id):\n",
    "    review_ids = []\n",
    "    review_time = []\n",
    "    user_ids = []\n",
    "    product_ids = []\n",
    "    temp_id = init_id\n",
    "    #Get review rating \n",
    "    rating = soup.find_all('i',class_='review-rating')\n",
    "    del rating[:2] ## Delete 2 first unecessary elements \n",
    "    overalls = []\n",
    "    for i in range(0,len(rating)):\n",
    "        temp_rating = re.search(\"[+-]?\\d+\\.\\d+\", rating[i].getText()).group()\n",
    "        overalls.append(temp_rating)\n",
    "        review_ids.append(temp_id)\n",
    "        temp_id = temp_id + 1\n",
    "        review_time.append(get_current_time())\n",
    "        user_ids.append(random.randint(1, 20))\n",
    "        product_ids.append(product_id)\n",
    "    review = soup.find_all(\"span\",{\"data-hook\":\"review-body\"})\n",
    "    \n",
    "    # Get review content\n",
    "    review_texts = []\n",
    "    for i in range(0,len(review)):\n",
    "        review_texts.append(review[i].get_text())\n",
    "    review_texts[:] = [reviews.lstrip('\\n') for reviews in review_texts]\n",
    "    review_texts[:] = [reviews.rstrip('\\n') for reviews in review_texts]\n",
    "    return review_ids,review_texts, review_time,overalls,user_ids,product_ids, temp_id\n"
   ]
  },
  {
   "cell_type": "code",
   "execution_count": 26,
   "id": "57b57af7",
   "metadata": {},
   "outputs": [],
   "source": [
    "    # Write CSV file \n",
    "def write_csv(review_ids,review_texts,review_time,overalls,user_ids,product_ids):\n",
    " df = pd.DataFrame()\n",
    " df['review_id']=pd.Series(review_ids)\n",
    " df['review_text']=pd.Series(review_texts)\n",
    " df['review_time']=pd.Series(review_time)\n",
    " df['overall']=pd.Series(overalls)\n",
    " df['user_id']=pd.Series(user_ids)\n",
    " df['product_id']=pd.Series(product_ids)\n",
    " df.to_csv(f'./samsung phone/review_test.csv',index=False)  \n",
    "    "
   ]
  },
  {
   "cell_type": "code",
   "execution_count": 28,
   "id": "36f28e72",
   "metadata": {},
   "outputs": [],
   "source": [
    "\n",
    "def get_product_reviews(urls,search_name):\n",
    "    ## Run driver \n",
    "    options = EdgeOptions()\n",
    "    options.use_chromium =True\n",
    "    driver = Edge(options=options)\n",
    "    \n",
    "    ## Innitilize data\n",
    "    init_rvId = 200\n",
    "    review_ids = []\n",
    "    review_texts = []\n",
    "    review_time = []\n",
    "    overalls = []\n",
    "    user_ids = []\n",
    "    product_ids = []\n",
    "    init_product_ids = get_product_ids(search_name)\n",
    "    \n",
    "    for url in urls:\n",
    "        driver.get(url)\n",
    "        soup =BeautifulSoup(driver.page_source, 'html.parser')\n",
    "        result = get_review_on_page(soup, init_rvId,init_product_ids[0])\n",
    "        review_ids =  review_ids + result[0]\n",
    "        review_texts = review_texts + result[1]\n",
    "        review_time = review_time + result[2]\n",
    "        overalls =  overalls + result[3]\n",
    "        user_ids = user_ids + result[4]\n",
    "        product_ids = product_ids + result[5]\n",
    "        init_rvId = result[6]\n",
    "        del init_product_ids[:1]\n",
    "    driver.close()\n",
    "    \n",
    "    write_csv(review_ids,review_texts,review_time,overalls,user_ids,product_ids)\n",
    "    \n"
   ]
  },
  {
   "cell_type": "code",
   "execution_count": 202,
   "id": "51bab718",
   "metadata": {},
   "outputs": [],
   "source": [
    "run(all_reviews_urls,'samsung phone')"
   ]
  },
  {
   "cell_type": "markdown",
   "id": "59a6e39f",
   "metadata": {},
   "source": [
    "## Main program"
   ]
  },
  {
   "cell_type": "code",
   "execution_count": 67,
   "id": "89c5dafa",
   "metadata": {},
   "outputs": [],
   "source": [
    "def main(search_term):\n",
    "    results = get_product_data(search_term)\n",
    "    urls = get_product_link(search_term)\n",
    "    all_review_urls = get_all_reviews_url(urls)\n",
    "    get_product_reviews(all_review_urls,search_term)\n",
    "    "
   ]
  },
  {
   "cell_type": "code",
   "execution_count": 68,
   "id": "5b675f0f",
   "metadata": {},
   "outputs": [
    {
     "name": "stdout",
     "output_type": "stream",
     "text": [
      "URL\n",
      "https://www.amazon.com/gp/slredirect/picassoRedirect.html/ref=pa_sp_atf_aps_sr_pg1_1?ie=UTF8&adId=A0316689GFPTT1BNVDOO&url=%2FMSI-GM41-Lightweight-Fast-Charging-Programmable%2Fdp%2FB094N6J1WP%2Fref%3Dsr_1_1_sspa%3Fkeywords%3Dgaming%2Bmouse%26qid%3D1639845464%26sr%3D8-1-spons%26psc%3D1&qualifier=1639845464&id=7508788357805600&widgetName=sp_atf\n",
      "https://www.amazon.com/gp/slredirect/picassoRedirect.html/ref=pa_sp_atf_aps_sr_pg1_1?ie=UTF8&adId=A001535815N3FB8LTONRR&url=%2FCORSAIR-IRONCLAW-Wireless-RGB-Slipstream%2Fdp%2FB07Q424WFW%2Fref%3Dsr_1_2_sspa%3Fkeywords%3Dgaming%2Bmouse%26qid%3D1639845464%26sr%3D8-2-spons%26psc%3D1&qualifier=1639845464&id=7508788357805600&widgetName=sp_atf\n",
      "https://www.amazon.com/Razer-Death-Adder-Essential-RZ01-02540100-R3U1/dp/B07F7T8J9P/ref=sr_1_4?keywords=gaming+mouse&qid=1639845464&sr=8-4\n",
      "https://www.amazon.com/gp/slredirect/picassoRedirect.html/ref=pa_sp_mtf_aps_sr_pg1_1?ie=UTF8&adId=A07188861OOZURHYICUHB&url=%2FFIODIO-Backlight-Adjustable-Comfortable-Ergonomic%2Fdp%2FB08615TQ9C%2Fref%3Dsr_1_7_sspa%3Fkeywords%3Dgaming%2Bmouse%26qid%3D1639845464%26sr%3D8-7-spons%26psc%3D1&qualifier=1639845464&id=7508788357805600&widgetName=sp_mtf\n",
      "https://www.amazon.com/Razer-DeathAdder-Gaming-Mouse-Programmable/dp/B082G5SPR5/ref=sr_1_8?keywords=gaming+mouse&qid=1639845464&sr=8-8\n",
      "https://www.amazon.com/Razer-Basilisk-Customizable-Ergonomic-Gaming/dp/B09C13PZX7/ref=sr_1_10?keywords=gaming+mouse&qid=1639845464&sr=8-10\n",
      "https://www.amazon.com/Razer-Naga-Trinity-Optical-Interchangeable/dp/B0788MCRGC/ref=sr_1_11?keywords=gaming+mouse&qid=1639845464&sr=8-11\n",
      "https://www.amazon.com/gp/slredirect/picassoRedirect.html/ref=pa_sp_mtf_aps_sr_pg1_1?ie=UTF8&adId=A02191863PE2RATIU3FXF&url=%2FCorsair-Wireless-SLIPSTREAM-Technology-CH-9315411-NA%2Fdp%2FB082LVNHW9%2Fref%3Dsr_1_12_sspa%3Fkeywords%3Dgaming%2Bmouse%26qid%3D1639845464%26sr%3D8-12-spons%26psc%3D1&qualifier=1639845464&id=7508788357805600&widgetName=sp_mtf\n",
      "https://www.amazon.com/Logitech-Lightspeed-PowerPlay-Compatible-Lightsync/dp/B07L4BM851/ref=sr_1_13?keywords=gaming+mouse&qid=1639845464&sr=8-13\n",
      "https://www.amazon.com/Razer-DeathAdder-Essential-Gaming-Mouse/dp/B094PS5RZQ/ref=sr_1_16?keywords=gaming+mouse&qid=1639845464&sr=8-16\n",
      "https://www.amazon.com/SteelSeries-Aerox-Ultra-lightweight-Resistant-connectivity/dp/B08LQX2GXZ/ref=sr_1_17?keywords=gaming+mouse&qid=1639845464&sr=8-17\n",
      "https://www.amazon.com/Razer-DeathAdder-Essential-Gaming-Mouse/dp/B07Y693ND1/ref=sr_1_18?keywords=gaming+mouse&qid=1639845464&sr=8-18\n",
      "https://www.amazon.com/gp/slredirect/picassoRedirect.html/ref=pa_sp_btf_aps_sr_pg1_1?ie=UTF8&adId=A067663530QMSJBZ98M9H&url=%2FFIODIO-Breathing-Ergonomic-Computer-Lighting%2Fdp%2FB08616DR2R%2Fref%3Dsr_1_21_sspa%3Fkeywords%3Dgaming%2Bmouse%26qid%3D1639845464%26sr%3D8-21-spons%26psc%3D1&qualifier=1639845464&id=7508788357805600&widgetName=sp_btf\n",
      "https://www.amazon.com/gp/slredirect/picassoRedirect.html/ref=pa_sp_btf_aps_sr_pg1_1?ie=UTF8&adId=A07520742575MP22BNZMG&url=%2FCorsair-Nightsword-Performance-Tunable-Backlit%2Fdp%2FB07QX9C9WH%2Fref%3Dsr_1_22_sspa%3Fkeywords%3Dgaming%2Bmouse%26qid%3D1639845464%26sr%3D8-22-spons%26psc%3D1&qualifier=1639845464&id=7508788357805600&widgetName=sp_btf\n"
     ]
    }
   ],
   "source": [
    "main('gaming mouse')"
   ]
  }
 ],
 "metadata": {
  "kernelspec": {
   "display_name": "Python 3 (ipykernel)",
   "language": "python",
   "name": "python3"
  },
  "language_info": {
   "codemirror_mode": {
    "name": "ipython",
    "version": 3
   },
   "file_extension": ".py",
   "mimetype": "text/x-python",
   "name": "python",
   "nbconvert_exporter": "python",
   "pygments_lexer": "ipython3",
   "version": "3.9.6"
  }
 },
 "nbformat": 4,
 "nbformat_minor": 5
}
